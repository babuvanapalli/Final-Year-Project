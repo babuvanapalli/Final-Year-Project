{
 "cells": [
  {
   "cell_type": "code",
   "execution_count": 1,
   "id": "6228266f",
   "metadata": {
    "execution": {
     "iopub.execute_input": "2022-03-31T11:19:13.013589Z",
     "iopub.status.busy": "2022-03-31T11:19:13.012911Z",
     "iopub.status.idle": "2022-03-31T11:19:14.502767Z",
     "shell.execute_reply": "2022-03-31T11:19:14.501981Z",
     "shell.execute_reply.started": "2022-03-31T11:10:50.191155Z"
    },
    "papermill": {
     "duration": 1.572637,
     "end_time": "2022-03-31T11:19:14.502931",
     "exception": false,
     "start_time": "2022-03-31T11:19:12.930294",
     "status": "completed"
    },
    "tags": []
   },
   "outputs": [],
   "source": [
    "import pandas as pd\n",
    "import numpy as np\n",
    "import seaborn as sns\n",
    "import matplotlib.pyplot as plt\n",
    "import warnings\n",
    "warnings.filterwarnings(\"ignore\")\n",
    "import math\n",
    "from sklearn.preprocessing import LabelEncoder\n",
    "from sklearn.model_selection import train_test_split\n",
    "from sklearn.linear_model import LinearRegression\n",
    "from sklearn.tree import DecisionTreeRegressor\n",
    "from sklearn.ensemble import RandomForestRegressor\n",
    "from sklearn import metrics\n",
    "from lib.utils import *\n",
    "from sklearn.metrics import mean_absolute_error,mean_squared_error,r2_score\n",
    "ac=[]"
   ]
  },
  {
   "cell_type": "code",
   "execution_count": 2,
   "id": "d0fa80c9",
   "metadata": {
    "execution": {
     "iopub.execute_input": "2022-03-31T11:19:14.664117Z",
     "iopub.status.busy": "2022-03-31T11:19:14.663452Z",
     "iopub.status.idle": "2022-03-31T11:19:16.599485Z",
     "shell.execute_reply": "2022-03-31T11:19:16.600008Z",
     "shell.execute_reply.started": "2022-03-31T11:10:51.535945Z"
    },
    "papermill": {
     "duration": 2.018932,
     "end_time": "2022-03-31T11:19:16.600192",
     "exception": false,
     "start_time": "2022-03-31T11:19:14.581260",
     "status": "completed"
    },
    "tags": []
   },
   "outputs": [],
   "source": [
    "df=pd.read_csv('data.csv',encoding='unicode_escape')\n"
   ]
  },
  {
   "cell_type": "code",
   "execution_count": 3,
   "id": "6a9f2262",
   "metadata": {
    "execution": {
     "iopub.execute_input": "2022-03-31T11:19:16.923141Z",
     "iopub.status.busy": "2022-03-31T11:19:16.922105Z",
     "iopub.status.idle": "2022-03-31T11:19:16.943718Z",
     "shell.execute_reply": "2022-03-31T11:19:16.944253Z",
     "shell.execute_reply.started": "2022-03-31T11:10:53.174510Z"
    },
    "papermill": {
     "duration": 0.108817,
     "end_time": "2022-03-31T11:19:16.944429",
     "exception": false,
     "start_time": "2022-03-31T11:19:16.835612",
     "status": "completed"
    },
    "tags": []
   },
   "outputs": [
    {
     "data": {
      "text/html": [
       "<div>\n",
       "<style scoped>\n",
       "    .dataframe tbody tr th:only-of-type {\n",
       "        vertical-align: middle;\n",
       "    }\n",
       "\n",
       "    .dataframe tbody tr th {\n",
       "        vertical-align: top;\n",
       "    }\n",
       "\n",
       "    .dataframe thead th {\n",
       "        text-align: right;\n",
       "    }\n",
       "</style>\n",
       "<table border=\"1\" class=\"dataframe\">\n",
       "  <thead>\n",
       "    <tr style=\"text-align: right;\">\n",
       "      <th></th>\n",
       "      <th>stn_code</th>\n",
       "      <th>sampling_date</th>\n",
       "      <th>state</th>\n",
       "      <th>location</th>\n",
       "      <th>agency</th>\n",
       "      <th>type</th>\n",
       "      <th>so2</th>\n",
       "      <th>no2</th>\n",
       "      <th>rspm</th>\n",
       "      <th>spm</th>\n",
       "      <th>location_monitoring_station</th>\n",
       "      <th>pm2_5</th>\n",
       "      <th>date</th>\n",
       "    </tr>\n",
       "  </thead>\n",
       "  <tbody>\n",
       "    <tr>\n",
       "      <th>0</th>\n",
       "      <td>150</td>\n",
       "      <td>February - M021990</td>\n",
       "      <td>Andhra Pradesh</td>\n",
       "      <td>Hyderabad</td>\n",
       "      <td>NaN</td>\n",
       "      <td>Residential, Rural and other Areas</td>\n",
       "      <td>4.8</td>\n",
       "      <td>17.4</td>\n",
       "      <td>NaN</td>\n",
       "      <td>NaN</td>\n",
       "      <td>NaN</td>\n",
       "      <td>NaN</td>\n",
       "      <td>1990-02-01</td>\n",
       "    </tr>\n",
       "    <tr>\n",
       "      <th>1</th>\n",
       "      <td>151</td>\n",
       "      <td>February - M021990</td>\n",
       "      <td>Andhra Pradesh</td>\n",
       "      <td>Hyderabad</td>\n",
       "      <td>NaN</td>\n",
       "      <td>Industrial Area</td>\n",
       "      <td>3.1</td>\n",
       "      <td>7.0</td>\n",
       "      <td>NaN</td>\n",
       "      <td>NaN</td>\n",
       "      <td>NaN</td>\n",
       "      <td>NaN</td>\n",
       "      <td>1990-02-01</td>\n",
       "    </tr>\n",
       "    <tr>\n",
       "      <th>2</th>\n",
       "      <td>152</td>\n",
       "      <td>February - M021990</td>\n",
       "      <td>Andhra Pradesh</td>\n",
       "      <td>Hyderabad</td>\n",
       "      <td>NaN</td>\n",
       "      <td>Residential, Rural and other Areas</td>\n",
       "      <td>6.2</td>\n",
       "      <td>28.5</td>\n",
       "      <td>NaN</td>\n",
       "      <td>NaN</td>\n",
       "      <td>NaN</td>\n",
       "      <td>NaN</td>\n",
       "      <td>1990-02-01</td>\n",
       "    </tr>\n",
       "    <tr>\n",
       "      <th>3</th>\n",
       "      <td>150</td>\n",
       "      <td>March - M031990</td>\n",
       "      <td>Andhra Pradesh</td>\n",
       "      <td>Hyderabad</td>\n",
       "      <td>NaN</td>\n",
       "      <td>Residential, Rural and other Areas</td>\n",
       "      <td>6.3</td>\n",
       "      <td>14.7</td>\n",
       "      <td>NaN</td>\n",
       "      <td>NaN</td>\n",
       "      <td>NaN</td>\n",
       "      <td>NaN</td>\n",
       "      <td>1990-03-01</td>\n",
       "    </tr>\n",
       "    <tr>\n",
       "      <th>4</th>\n",
       "      <td>151</td>\n",
       "      <td>March - M031990</td>\n",
       "      <td>Andhra Pradesh</td>\n",
       "      <td>Hyderabad</td>\n",
       "      <td>NaN</td>\n",
       "      <td>Industrial Area</td>\n",
       "      <td>4.7</td>\n",
       "      <td>7.5</td>\n",
       "      <td>NaN</td>\n",
       "      <td>NaN</td>\n",
       "      <td>NaN</td>\n",
       "      <td>NaN</td>\n",
       "      <td>1990-03-01</td>\n",
       "    </tr>\n",
       "  </tbody>\n",
       "</table>\n",
       "</div>"
      ],
      "text/plain": [
       "  stn_code       sampling_date           state   location agency  \\\n",
       "0      150  February - M021990  Andhra Pradesh  Hyderabad    NaN   \n",
       "1      151  February - M021990  Andhra Pradesh  Hyderabad    NaN   \n",
       "2      152  February - M021990  Andhra Pradesh  Hyderabad    NaN   \n",
       "3      150     March - M031990  Andhra Pradesh  Hyderabad    NaN   \n",
       "4      151     March - M031990  Andhra Pradesh  Hyderabad    NaN   \n",
       "\n",
       "                                 type  so2   no2  rspm  spm  \\\n",
       "0  Residential, Rural and other Areas  4.8  17.4   NaN  NaN   \n",
       "1                     Industrial Area  3.1   7.0   NaN  NaN   \n",
       "2  Residential, Rural and other Areas  6.2  28.5   NaN  NaN   \n",
       "3  Residential, Rural and other Areas  6.3  14.7   NaN  NaN   \n",
       "4                     Industrial Area  4.7   7.5   NaN  NaN   \n",
       "\n",
       "  location_monitoring_station  pm2_5        date  \n",
       "0                         NaN    NaN  1990-02-01  \n",
       "1                         NaN    NaN  1990-02-01  \n",
       "2                         NaN    NaN  1990-02-01  \n",
       "3                         NaN    NaN  1990-03-01  \n",
       "4                         NaN    NaN  1990-03-01  "
      ]
     },
     "execution_count": 3,
     "metadata": {},
     "output_type": "execute_result"
    }
   ],
   "source": [
    "df.head()\n"
   ]
  },
  {
   "cell_type": "code",
   "execution_count": 4,
   "id": "65e9bb88",
   "metadata": {
    "execution": {
     "iopub.execute_input": "2022-03-31T11:19:17.110544Z",
     "iopub.status.busy": "2022-03-31T11:19:17.109627Z",
     "iopub.status.idle": "2022-03-31T11:19:17.113781Z",
     "shell.execute_reply": "2022-03-31T11:19:17.113135Z",
     "shell.execute_reply.started": "2022-03-31T11:10:53.202874Z"
    },
    "papermill": {
     "duration": 0.090433,
     "end_time": "2022-03-31T11:19:17.113923",
     "exception": false,
     "start_time": "2022-03-31T11:19:17.023490",
     "status": "completed"
    },
    "tags": []
   },
   "outputs": [
    {
     "name": "stdout",
     "output_type": "stream",
     "text": [
      "<class 'pandas.core.frame.DataFrame'>\n",
      "RangeIndex: 435742 entries, 0 to 435741\n",
      "Data columns (total 13 columns):\n",
      "stn_code                       291665 non-null object\n",
      "sampling_date                  435739 non-null object\n",
      "state                          435742 non-null object\n",
      "location                       435739 non-null object\n",
      "agency                         286261 non-null object\n",
      "type                           430349 non-null object\n",
      "so2                            401096 non-null float64\n",
      "no2                            419509 non-null float64\n",
      "rspm                           395520 non-null float64\n",
      "spm                            198355 non-null float64\n",
      "location_monitoring_station    408251 non-null object\n",
      "pm2_5                          9314 non-null float64\n",
      "date                           435735 non-null object\n",
      "dtypes: float64(5), object(8)\n",
      "memory usage: 43.2+ MB\n"
     ]
    }
   ],
   "source": [
    "df.shape\n",
    "df.info()\n"
   ]
  },
  {
   "cell_type": "code",
   "execution_count": 5,
   "id": "e6e8c6f7",
   "metadata": {
    "execution": {
     "iopub.execute_input": "2022-03-31T11:19:17.814351Z",
     "iopub.status.busy": "2022-03-31T11:19:17.813696Z",
     "iopub.status.idle": "2022-03-31T11:19:18.164034Z",
     "shell.execute_reply": "2022-03-31T11:19:18.163462Z",
     "shell.execute_reply.started": "2022-03-31T11:10:53.579825Z"
    },
    "papermill": {
     "duration": 0.43764,
     "end_time": "2022-03-31T11:19:18.164183",
     "exception": false,
     "start_time": "2022-03-31T11:19:17.726543",
     "status": "completed"
    },
    "tags": []
   },
   "outputs": [
    {
     "data": {
      "text/plain": [
       "stn_code                       144077\n",
       "sampling_date                       3\n",
       "state                               0\n",
       "location                            3\n",
       "agency                         149481\n",
       "type                             5393\n",
       "so2                             34646\n",
       "no2                             16233\n",
       "rspm                            40222\n",
       "spm                            237387\n",
       "location_monitoring_station     27491\n",
       "pm2_5                          426428\n",
       "date                                7\n",
       "dtype: int64"
      ]
     },
     "execution_count": 5,
     "metadata": {},
     "output_type": "execute_result"
    }
   ],
   "source": [
    "df.isnull().sum()\n"
   ]
  },
  {
   "cell_type": "code",
   "execution_count": 6,
   "id": "75492cf3",
   "metadata": {
    "execution": {
     "iopub.execute_input": "2022-03-31T11:19:18.584834Z",
     "iopub.status.busy": "2022-03-31T11:19:18.584190Z",
     "iopub.status.idle": "2022-03-31T11:19:18.952368Z",
     "shell.execute_reply": "2022-03-31T11:19:18.951864Z",
     "shell.execute_reply.started": "2022-03-31T11:10:54.019504Z"
    },
    "papermill": {
     "duration": 0.451122,
     "end_time": "2022-03-31T11:19:18.952541",
     "exception": false,
     "start_time": "2022-03-31T11:19:18.501419",
     "status": "completed"
    },
    "tags": []
   },
   "outputs": [
    {
     "data": {
      "text/plain": [
       "stn_code                        803\n",
       "sampling_date                  5485\n",
       "state                            37\n",
       "location                        304\n",
       "agency                           64\n",
       "type                             10\n",
       "so2                            4197\n",
       "no2                            6864\n",
       "rspm                           6065\n",
       "spm                            6668\n",
       "location_monitoring_station     991\n",
       "pm2_5                           433\n",
       "date                           5067\n",
       "dtype: int64"
      ]
     },
     "execution_count": 6,
     "metadata": {},
     "output_type": "execute_result"
    }
   ],
   "source": [
    "df.nunique()\n"
   ]
  },
  {
   "cell_type": "code",
   "execution_count": 7,
   "id": "2f0467ea",
   "metadata": {
    "execution": {
     "iopub.execute_input": "2022-03-31T11:19:58.465535Z",
     "iopub.status.busy": "2022-03-31T11:19:58.464839Z",
     "iopub.status.idle": "2022-03-31T11:19:58.470667Z",
     "shell.execute_reply": "2022-03-31T11:19:58.471120Z",
     "shell.execute_reply.started": "2022-03-31T11:11:33.090220Z"
    },
    "papermill": {
     "duration": 0.147965,
     "end_time": "2022-03-31T11:19:58.471291",
     "exception": false,
     "start_time": "2022-03-31T11:19:58.323326",
     "status": "completed"
    },
    "tags": []
   },
   "outputs": [
    {
     "data": {
      "text/plain": [
       "Maharashtra                    60384\n",
       "Uttar Pradesh                  42816\n",
       "Andhra Pradesh                 26368\n",
       "Punjab                         25634\n",
       "Rajasthan                      25589\n",
       "Kerala                         24728\n",
       "Himachal Pradesh               22896\n",
       "West Bengal                    22463\n",
       "Gujarat                        21279\n",
       "Tamil Nadu                     20597\n",
       "Madhya Pradesh                 19920\n",
       "Assam                          19361\n",
       "Odisha                         19279\n",
       "Karnataka                      17119\n",
       "Delhi                           8551\n",
       "Chandigarh                      8520\n",
       "Chhattisgarh                    7831\n",
       "Goa                             6206\n",
       "Jharkhand                       5968\n",
       "Mizoram                         5338\n",
       "Telangana                       3978\n",
       "Meghalaya                       3853\n",
       "Puducherry                      3785\n",
       "Haryana                         3420\n",
       "Nagaland                        2463\n",
       "Bihar                           2275\n",
       "Uttarakhand                     1961\n",
       "Jammu & Kashmir                 1289\n",
       "Daman & Diu                      782\n",
       "Dadra & Nagar Haveli             634\n",
       "Uttaranchal                      285\n",
       "Arunachal Pradesh                 90\n",
       "Manipur                           76\n",
       "Lakshadweep                        1\n",
       "Sikkim                             1\n",
       "andaman-and-nicobar-islands        1\n",
       "Tripura                            1\n",
       "Name: state, dtype: int64"
      ]
     },
     "execution_count": 7,
     "metadata": {},
     "output_type": "execute_result"
    }
   ],
   "source": [
    "df['state'].value_counts()\n"
   ]
  },
  {
   "cell_type": "code",
   "execution_count": 8,
   "id": "e05aa8af",
   "metadata": {
    "execution": {
     "iopub.execute_input": "2022-03-31T11:19:58.648240Z",
     "iopub.status.busy": "2022-03-31T11:19:58.647620Z",
     "iopub.status.idle": "2022-03-31T11:19:59.312599Z",
     "shell.execute_reply": "2022-03-31T11:19:59.313083Z",
     "shell.execute_reply.started": "2022-03-31T11:11:33.151717Z"
    },
    "papermill": {
     "duration": 0.754835,
     "end_time": "2022-03-31T11:19:59.313247",
     "exception": false,
     "start_time": "2022-03-31T11:19:58.558412",
     "status": "completed"
    },
    "tags": []
   },
   "outputs": [
    {
     "data": {
      "text/plain": [
       "[]"
      ]
     },
     "execution_count": 8,
     "metadata": {},
     "output_type": "execute_result"
    },
    {
     "data": {
      "image/png": "[encoded data removed]",
      "text/plain": [
       "<Figure size 1080x432 with 1 Axes>"
      ]
     },
     "metadata": {
      "needs_background": "light"
     },
     "output_type": "display_data"
    }
   ],
   "source": [
    "plt.figure(figsize=(15, 6))\n",
    "plt.xticks(rotation=90)\n",
    "df.state.hist()\n",
    "plt.xlabel('state')\n",
    "plt.ylabel('Frequencies')\n",
    "plt.plot()\n"
   ]
  },
  {
   "cell_type": "code",
   "execution_count": 9,
   "id": "c7c6c057",
   "metadata": {
    "execution": {
     "iopub.execute_input": "2022-03-31T11:19:59.494640Z",
     "iopub.status.busy": "2022-03-31T11:19:59.494000Z",
     "iopub.status.idle": "2022-03-31T11:19:59.566308Z",
     "shell.execute_reply": "2022-03-31T11:19:59.565798Z",
     "shell.execute_reply.started": "2022-03-31T11:11:33.818984Z"
    },
    "papermill": {
     "duration": 0.164631,
     "end_time": "2022-03-31T11:19:59.566448",
     "exception": false,
     "start_time": "2022-03-31T11:19:59.401817",
     "status": "completed"
    },
    "tags": []
   },
   "outputs": [
    {
     "data": {
      "text/plain": [
       "Residential, Rural and other Areas    179014\n",
       "Industrial Area                        96091\n",
       "Residential and others                 86791\n",
       "Industrial Areas                       51747\n",
       "Sensitive Area                          8980\n",
       "Sensitive Areas                         5536\n",
       "RIRUO                                   1304\n",
       "Sensitive                                495\n",
       "Industrial                               233\n",
       "Residential                              158\n",
       "Name: type, dtype: int64"
      ]
     },
     "execution_count": 9,
     "metadata": {},
     "output_type": "execute_result"
    }
   ],
   "source": [
    "df['type'].value_counts()\n"
   ]
  },
  {
   "cell_type": "code",
   "execution_count": 10,
   "id": "04518632",
   "metadata": {
    "execution": {
     "iopub.execute_input": "2022-03-31T11:19:59.770531Z",
     "iopub.status.busy": "2022-03-31T11:19:59.769387Z",
     "iopub.status.idle": "2022-03-31T11:20:00.264632Z",
     "shell.execute_reply": "2022-03-31T11:20:00.264092Z",
     "shell.execute_reply.started": "2022-03-31T11:11:33.895797Z"
    },
    "papermill": {
     "duration": 0.609534,
     "end_time": "2022-03-31T11:20:00.264769",
     "exception": false,
     "start_time": "2022-03-31T11:19:59.655235",
     "status": "completed"
    },
    "tags": []
   },
   "outputs": [
    {
     "data": {
      "text/plain": [
       "[]"
      ]
     },
     "execution_count": 10,
     "metadata": {},
     "output_type": "execute_result"
    },
    {
     "data": {
      "image/png": "[encoded data removed]",
      "text/plain": [
       "<Figure size 1080x432 with 1 Axes>"
      ]
     },
     "metadata": {
      "needs_background": "light"
     },
     "output_type": "display_data"
    }
   ],
   "source": [
    "plt.figure(figsize=(15, 6))\n",
    "plt.xticks(rotation=90)\n",
    "df.type.hist()\n",
    "plt.xlabel('Type')\n",
    "plt.ylabel('Frequencies')\n",
    "plt.plot()\n"
   ]
  },
  {
   "cell_type": "code",
   "execution_count": 11,
   "id": "ccdb20de",
   "metadata": {
    "execution": {
     "iopub.execute_input": "2022-03-31T11:20:02.760904Z",
     "iopub.status.busy": "2022-03-31T11:20:02.745292Z",
     "iopub.status.idle": "2022-03-31T11:20:08.649221Z",
     "shell.execute_reply": "2022-03-31T11:20:08.649733Z",
     "shell.execute_reply.started": "2022-03-31T11:11:36.355816Z"
    },
    "papermill": {
     "duration": 6.004778,
     "end_time": "2022-03-31T11:20:08.649905",
     "exception": false,
     "start_time": "2022-03-31T11:20:02.645127",
     "status": "completed"
    },
    "tags": []
   },
   "outputs": [
    {
     "data": {
      "image/png": "[encoded data removed]",
      "text/plain": [
       "<Figure size 2160x720 with 1 Axes>"
      ]
     },
     "metadata": {
      "needs_background": "light"
     },
     "output_type": "display_data"
    }
   ],
   "source": [
    "plt.figure(figsize=(30, 10))\n",
    "plt.xticks(rotation=90)\n",
    "sns.barplot(x='state',y='so2',data=df);\n"
   ]
  },
  {
   "cell_type": "code",
   "execution_count": 12,
   "id": "6876c0b8",
   "metadata": {
    "execution": {
     "iopub.execute_input": "2022-03-31T11:20:08.847675Z",
     "iopub.status.busy": "2022-03-31T11:20:08.846989Z",
     "iopub.status.idle": "2022-03-31T11:20:08.848666Z",
     "shell.execute_reply": "2022-03-31T11:20:08.849098Z",
     "shell.execute_reply.started": "2022-03-31T11:11:42.250196Z"
    },
    "papermill": {
     "duration": 0.103169,
     "end_time": "2022-03-31T11:20:08.849265",
     "exception": false,
     "start_time": "2022-03-31T11:20:08.746096",
     "status": "completed"
    },
    "tags": []
   },
   "outputs": [],
   "source": [
    "plt.rcParams['figure.figsize']=(30,10)"
   ]
  },
  {
   "cell_type": "code",
   "execution_count": 13,
   "id": "6b225740",
   "metadata": {
    "execution": {
     "iopub.execute_input": "2022-03-31T11:20:09.050874Z",
     "iopub.status.busy": "2022-03-31T11:20:09.049841Z",
     "iopub.status.idle": "2022-03-31T11:20:09.862870Z",
     "shell.execute_reply": "2022-03-31T11:20:09.863393Z",
     "shell.execute_reply.started": "2022-03-31T11:11:42.256960Z"
    },
    "papermill": {
     "duration": 0.91842,
     "end_time": "2022-03-31T11:20:09.863602",
     "exception": false,
     "start_time": "2022-03-31T11:20:08.945182",
     "status": "completed"
    },
    "tags": []
   },
   "outputs": [
    {
     "data": {
      "image/png": "[encoded data removed]",
      "text/plain": [
       "<Figure size 2160x720 with 1 Axes>"
      ]
     },
     "metadata": {
      "needs_background": "light"
     },
     "output_type": "display_data"
    }
   ],
   "source": [
    "df[['so2','state']].groupby([\"state\"]).mean().sort_values(by='so2').plot.bar(color='purple')\n",
    "plt.show()\n"
   ]
  },
  {
   "cell_type": "code",
   "execution_count": 14,
   "id": "eb356420",
   "metadata": {
    "execution": {
     "iopub.execute_input": "2022-03-31T11:20:10.086537Z",
     "iopub.status.busy": "2022-03-31T11:20:10.085396Z",
     "iopub.status.idle": "2022-03-31T11:20:16.090582Z",
     "shell.execute_reply": "2022-03-31T11:20:16.091076Z",
     "shell.execute_reply.started": "2022-03-31T11:11:43.093646Z"
    },
    "papermill": {
     "duration": 6.12919,
     "end_time": "2022-03-31T11:20:16.091240",
     "exception": false,
     "start_time": "2022-03-31T11:20:09.962050",
     "status": "completed"
    },
    "tags": []
   },
   "outputs": [
    {
     "data": {
      "image/png": "[encoded data removed]",
      "text/plain": [
       "<Figure size 2160x720 with 1 Axes>"
      ]
     },
     "metadata": {
      "needs_background": "light"
     },
     "output_type": "display_data"
    }
   ],
   "source": [
    "plt.figure(figsize=(30, 10))\n",
    "plt.xticks(rotation=90)\n",
    "sns.barplot(x='state',y='no2',data=df);\n"
   ]
  },
  {
   "cell_type": "code",
   "execution_count": 15,
   "id": "4f72a855",
   "metadata": {
    "execution": {
     "iopub.execute_input": "2022-03-31T11:20:16.297068Z",
     "iopub.status.busy": "2022-03-31T11:20:16.296035Z",
     "iopub.status.idle": "2022-03-31T11:20:16.820645Z",
     "shell.execute_reply": "2022-03-31T11:20:16.821150Z",
     "shell.execute_reply.started": "2022-03-31T11:11:49.183690Z"
    },
    "papermill": {
     "duration": 0.630876,
     "end_time": "2022-03-31T11:20:16.821318",
     "exception": false,
     "start_time": "2022-03-31T11:20:16.190442",
     "status": "completed"
    },
    "tags": []
   },
   "outputs": [
    {
     "data": {
      "image/png": "[encoded data removed]",
      "text/plain": [
       "<Figure size 2160x720 with 1 Axes>"
      ]
     },
     "metadata": {
      "needs_background": "light"
     },
     "output_type": "display_data"
    }
   ],
   "source": [
    "df[['no2','state']].groupby([\"state\"]).mean().sort_values(by='no2').plot.bar(color='purple')\n",
    "plt.show()\n"
   ]
  },
  {
   "cell_type": "code",
   "execution_count": 16,
   "id": "ea403338",
   "metadata": {
    "execution": {
     "iopub.execute_input": "2022-03-31T11:20:17.130872Z",
     "iopub.status.busy": "2022-03-31T11:20:17.129938Z",
     "iopub.status.idle": "2022-03-31T11:20:22.825524Z",
     "shell.execute_reply": "2022-03-31T11:20:22.824979Z",
     "shell.execute_reply.started": "2022-03-31T11:11:49.734785Z"
    },
    "papermill": {
     "duration": 5.904287,
     "end_time": "2022-03-31T11:20:22.825686",
     "exception": false,
     "start_time": "2022-03-31T11:20:16.921399",
     "status": "completed"
    },
    "tags": []
   },
   "outputs": [
    {
     "data": {
      "image/png": "[encoded data removed]",
      "text/plain": [
       "<Figure size 2160x720 with 1 Axes>"
      ]
     },
     "metadata": {
      "needs_background": "light"
     },
     "output_type": "display_data"
    }
   ],
   "source": [
    "plt.figure(figsize=(30, 10))\n",
    "plt.xticks(rotation=90)\n",
    "sns.barplot(x='state',y='rspm',data=df);\n"
   ]
  },
  {
   "cell_type": "code",
   "execution_count": 17,
   "id": "d02a87ea",
   "metadata": {
    "execution": {
     "iopub.execute_input": "2022-03-31T11:20:23.057810Z",
     "iopub.status.busy": "2022-03-31T11:20:23.055621Z",
     "iopub.status.idle": "2022-03-31T11:20:26.782009Z",
     "shell.execute_reply": "2022-03-31T11:20:26.782553Z",
     "shell.execute_reply.started": "2022-03-31T11:11:55.563863Z"
    },
    "papermill": {
     "duration": 3.852673,
     "end_time": "2022-03-31T11:20:26.782728",
     "exception": false,
     "start_time": "2022-03-31T11:20:22.930055",
     "status": "completed"
    },
    "tags": []
   },
   "outputs": [
    {
     "data": {
      "image/png": "[encoded data removed]",
      "text/plain": [
       "<Figure size 2160x720 with 1 Axes>"
      ]
     },
     "metadata": {
      "needs_background": "light"
     },
     "output_type": "display_data"
    }
   ],
   "source": [
    "plt.figure(figsize=(30, 10))\n",
    "plt.xticks(rotation=90)\n",
    "sns.barplot(x='state',y='spm',data=df);\n"
   ]
  },
  {
   "cell_type": "code",
   "execution_count": 18,
   "id": "c5a0b125",
   "metadata": {
    "execution": {
     "iopub.execute_input": "2022-03-31T11:20:28.726777Z",
     "iopub.status.busy": "2022-03-31T11:20:28.726121Z",
     "iopub.status.idle": "2022-03-31T11:20:29.070990Z",
     "shell.execute_reply": "2022-03-31T11:20:29.070383Z",
     "shell.execute_reply.started": "2022-03-31T11:12:00.668143Z"
    },
    "papermill": {
     "duration": 0.455563,
     "end_time": "2022-03-31T11:20:29.071133",
     "exception": false,
     "start_time": "2022-03-31T11:20:28.615570",
     "status": "completed"
    },
    "tags": []
   },
   "outputs": [
    {
     "data": {
      "text/plain": [
       "pm2_5                          426428\n",
       "spm                            237387\n",
       "agency                         149481\n",
       "stn_code                       144077\n",
       "rspm                            40222\n",
       "so2                             34646\n",
       "location_monitoring_station     27491\n",
       "no2                             16233\n",
       "type                             5393\n",
       "date                                7\n",
       "location                            3\n",
       "sampling_date                       3\n",
       "state                               0\n",
       "dtype: int64"
      ]
     },
     "execution_count": 18,
     "metadata": {},
     "output_type": "execute_result"
    }
   ],
   "source": [
    "nullvalues = df.isnull().sum().sort_values(ascending=False)\n",
    "nullvalues"
   ]
  },
  {
   "cell_type": "code",
   "execution_count": 19,
   "id": "74818a98",
   "metadata": {
    "execution": {
     "iopub.execute_input": "2022-03-31T11:20:30.897344Z",
     "iopub.status.busy": "2022-03-31T11:20:30.896654Z",
     "iopub.status.idle": "2022-03-31T11:20:31.032719Z",
     "shell.execute_reply": "2022-03-31T11:20:31.032103Z",
     "shell.execute_reply.started": "2022-03-31T11:12:01.738701Z"
    },
    "papermill": {
     "duration": 0.250703,
     "end_time": "2022-03-31T11:20:31.032904",
     "exception": false,
     "start_time": "2022-03-31T11:20:30.782201",
     "status": "completed"
    },
    "tags": []
   },
   "outputs": [],
   "source": [
    "df.drop(['agency'],axis=1,inplace=True)\n",
    "df.drop(['stn_code'],axis=1,inplace=True)\n",
    "df.drop(['date'],axis=1,inplace=True)\n",
    "df.drop(['sampling_date'],axis=1,inplace=True)\n",
    "df.drop(['location_monitoring_station'],axis=1,inplace=True)\n"
   ]
  },
  {
   "cell_type": "code",
   "execution_count": 20,
   "id": "cc99121a",
   "metadata": {
    "execution": {
     "iopub.execute_input": "2022-03-31T11:20:31.388730Z",
     "iopub.status.busy": "2022-03-31T11:20:31.388062Z",
     "iopub.status.idle": "2022-03-31T11:20:31.400799Z",
     "shell.execute_reply": "2022-03-31T11:20:31.400216Z",
     "shell.execute_reply.started": "2022-03-31T11:12:01.879354Z"
    },
    "papermill": {
     "duration": 0.260407,
     "end_time": "2022-03-31T11:20:31.400942",
     "exception": false,
     "start_time": "2022-03-31T11:20:31.140535",
     "status": "completed"
    },
    "tags": []
   },
   "outputs": [
    {
     "data": {
      "text/plain": [
       "state            0\n",
       "location         3\n",
       "type          5393\n",
       "so2          34646\n",
       "no2          16233\n",
       "rspm         40222\n",
       "spm         237387\n",
       "pm2_5       426428\n",
       "dtype: int64"
      ]
     },
     "execution_count": 20,
     "metadata": {},
     "output_type": "execute_result"
    }
   ],
   "source": [
    "df.isnull().sum()\n"
   ]
  },
  {
   "cell_type": "code",
   "execution_count": 21,
   "id": "b36b779d",
   "metadata": {
    "execution": {
     "iopub.execute_input": "2022-03-31T11:20:31.642793Z",
     "iopub.status.busy": "2022-03-31T11:20:31.642080Z",
     "iopub.status.idle": "2022-03-31T11:20:31.646183Z",
     "shell.execute_reply": "2022-03-31T11:20:31.645663Z",
     "shell.execute_reply.started": "2022-03-31T11:12:02.035423Z"
    },
    "papermill": {
     "duration": 0.134615,
     "end_time": "2022-03-31T11:20:31.646318",
     "exception": false,
     "start_time": "2022-03-31T11:20:31.511703",
     "status": "completed"
    },
    "tags": []
   },
   "outputs": [
    {
     "data": {
      "text/html": [
       "<div>\n",
       "<style scoped>\n",
       "    .dataframe tbody tr th:only-of-type {\n",
       "        vertical-align: middle;\n",
       "    }\n",
       "\n",
       "    .dataframe tbody tr th {\n",
       "        vertical-align: top;\n",
       "    }\n",
       "\n",
       "    .dataframe thead th {\n",
       "        text-align: right;\n",
       "    }\n",
       "</style>\n",
       "<table border=\"1\" class=\"dataframe\">\n",
       "  <thead>\n",
       "    <tr style=\"text-align: right;\">\n",
       "      <th></th>\n",
       "      <th>state</th>\n",
       "      <th>location</th>\n",
       "      <th>type</th>\n",
       "      <th>so2</th>\n",
       "      <th>no2</th>\n",
       "      <th>rspm</th>\n",
       "      <th>spm</th>\n",
       "      <th>pm2_5</th>\n",
       "    </tr>\n",
       "  </thead>\n",
       "  <tbody>\n",
       "    <tr>\n",
       "      <th>0</th>\n",
       "      <td>Andhra Pradesh</td>\n",
       "      <td>Hyderabad</td>\n",
       "      <td>Residential, Rural and other Areas</td>\n",
       "      <td>4.8</td>\n",
       "      <td>17.4</td>\n",
       "      <td>NaN</td>\n",
       "      <td>NaN</td>\n",
       "      <td>NaN</td>\n",
       "    </tr>\n",
       "    <tr>\n",
       "      <th>1</th>\n",
       "      <td>Andhra Pradesh</td>\n",
       "      <td>Hyderabad</td>\n",
       "      <td>Industrial Area</td>\n",
       "      <td>3.1</td>\n",
       "      <td>7.0</td>\n",
       "      <td>NaN</td>\n",
       "      <td>NaN</td>\n",
       "      <td>NaN</td>\n",
       "    </tr>\n",
       "    <tr>\n",
       "      <th>2</th>\n",
       "      <td>Andhra Pradesh</td>\n",
       "      <td>Hyderabad</td>\n",
       "      <td>Residential, Rural and other Areas</td>\n",
       "      <td>6.2</td>\n",
       "      <td>28.5</td>\n",
       "      <td>NaN</td>\n",
       "      <td>NaN</td>\n",
       "      <td>NaN</td>\n",
       "    </tr>\n",
       "    <tr>\n",
       "      <th>3</th>\n",
       "      <td>Andhra Pradesh</td>\n",
       "      <td>Hyderabad</td>\n",
       "      <td>Residential, Rural and other Areas</td>\n",
       "      <td>6.3</td>\n",
       "      <td>14.7</td>\n",
       "      <td>NaN</td>\n",
       "      <td>NaN</td>\n",
       "      <td>NaN</td>\n",
       "    </tr>\n",
       "    <tr>\n",
       "      <th>4</th>\n",
       "      <td>Andhra Pradesh</td>\n",
       "      <td>Hyderabad</td>\n",
       "      <td>Industrial Area</td>\n",
       "      <td>4.7</td>\n",
       "      <td>7.5</td>\n",
       "      <td>NaN</td>\n",
       "      <td>NaN</td>\n",
       "      <td>NaN</td>\n",
       "    </tr>\n",
       "    <tr>\n",
       "      <th>...</th>\n",
       "      <td>...</td>\n",
       "      <td>...</td>\n",
       "      <td>...</td>\n",
       "      <td>...</td>\n",
       "      <td>...</td>\n",
       "      <td>...</td>\n",
       "      <td>...</td>\n",
       "      <td>...</td>\n",
       "    </tr>\n",
       "    <tr>\n",
       "      <th>435737</th>\n",
       "      <td>West Bengal</td>\n",
       "      <td>ULUBERIA</td>\n",
       "      <td>RIRUO</td>\n",
       "      <td>22.0</td>\n",
       "      <td>50.0</td>\n",
       "      <td>143.0</td>\n",
       "      <td>NaN</td>\n",
       "      <td>NaN</td>\n",
       "    </tr>\n",
       "    <tr>\n",
       "      <th>435738</th>\n",
       "      <td>West Bengal</td>\n",
       "      <td>ULUBERIA</td>\n",
       "      <td>RIRUO</td>\n",
       "      <td>20.0</td>\n",
       "      <td>46.0</td>\n",
       "      <td>171.0</td>\n",
       "      <td>NaN</td>\n",
       "      <td>NaN</td>\n",
       "    </tr>\n",
       "    <tr>\n",
       "      <th>435739</th>\n",
       "      <td>andaman-and-nicobar-islands</td>\n",
       "      <td>NaN</td>\n",
       "      <td>NaN</td>\n",
       "      <td>NaN</td>\n",
       "      <td>NaN</td>\n",
       "      <td>NaN</td>\n",
       "      <td>NaN</td>\n",
       "      <td>NaN</td>\n",
       "    </tr>\n",
       "    <tr>\n",
       "      <th>435740</th>\n",
       "      <td>Lakshadweep</td>\n",
       "      <td>NaN</td>\n",
       "      <td>NaN</td>\n",
       "      <td>NaN</td>\n",
       "      <td>NaN</td>\n",
       "      <td>NaN</td>\n",
       "      <td>NaN</td>\n",
       "      <td>NaN</td>\n",
       "    </tr>\n",
       "    <tr>\n",
       "      <th>435741</th>\n",
       "      <td>Tripura</td>\n",
       "      <td>NaN</td>\n",
       "      <td>NaN</td>\n",
       "      <td>NaN</td>\n",
       "      <td>NaN</td>\n",
       "      <td>NaN</td>\n",
       "      <td>NaN</td>\n",
       "      <td>NaN</td>\n",
       "    </tr>\n",
       "  </tbody>\n",
       "</table>\n",
       "<p>435742 rows × 8 columns</p>\n",
       "</div>"
      ],
      "text/plain": [
       "                              state   location  \\\n",
       "0                    Andhra Pradesh  Hyderabad   \n",
       "1                    Andhra Pradesh  Hyderabad   \n",
       "2                    Andhra Pradesh  Hyderabad   \n",
       "3                    Andhra Pradesh  Hyderabad   \n",
       "4                    Andhra Pradesh  Hyderabad   \n",
       "...                             ...        ...   \n",
       "435737                  West Bengal   ULUBERIA   \n",
       "435738                  West Bengal   ULUBERIA   \n",
       "435739  andaman-and-nicobar-islands        NaN   \n",
       "435740                  Lakshadweep        NaN   \n",
       "435741                      Tripura        NaN   \n",
       "\n",
       "                                      type   so2   no2   rspm  spm  pm2_5  \n",
       "0       Residential, Rural and other Areas   4.8  17.4    NaN  NaN    NaN  \n",
       "1                          Industrial Area   3.1   7.0    NaN  NaN    NaN  \n",
       "2       Residential, Rural and other Areas   6.2  28.5    NaN  NaN    NaN  \n",
       "3       Residential, Rural and other Areas   6.3  14.7    NaN  NaN    NaN  \n",
       "4                          Industrial Area   4.7   7.5    NaN  NaN    NaN  \n",
       "...                                    ...   ...   ...    ...  ...    ...  \n",
       "435737                               RIRUO  22.0  50.0  143.0  NaN    NaN  \n",
       "435738                               RIRUO  20.0  46.0  171.0  NaN    NaN  \n",
       "435739                                 NaN   NaN   NaN    NaN  NaN    NaN  \n",
       "435740                                 NaN   NaN   NaN    NaN  NaN    NaN  \n",
       "435741                                 NaN   NaN   NaN    NaN  NaN    NaN  \n",
       "\n",
       "[435742 rows x 8 columns]"
      ]
     },
     "execution_count": 21,
     "metadata": {},
     "output_type": "execute_result"
    }
   ],
   "source": [
    "df"
   ]
  },
  {
   "cell_type": "code",
   "execution_count": 22,
   "id": "235c8f60",
   "metadata": {
    "execution": {
     "iopub.execute_input": "2022-03-31T11:20:31.971108Z",
     "iopub.status.busy": "2022-03-31T11:20:31.970385Z",
     "iopub.status.idle": "2022-03-31T11:20:32.098133Z",
     "shell.execute_reply": "2022-03-31T11:20:32.097572Z",
     "shell.execute_reply.started": "2022-03-31T11:12:02.058415Z"
    },
    "papermill": {
     "duration": 0.340423,
     "end_time": "2022-03-31T11:20:32.098274",
     "exception": false,
     "start_time": "2022-03-31T11:20:31.757851",
     "status": "completed"
    },
    "tags": []
   },
   "outputs": [],
   "source": [
    "df['location']=df['location'].fillna(df['location'].mode()[0])\n",
    "df['type']=df['type'].fillna(df['type'].mode()[0])\n"
   ]
  },
  {
   "cell_type": "code",
   "execution_count": 23,
   "id": "bd52df94",
   "metadata": {
    "execution": {
     "iopub.execute_input": "2022-03-31T11:20:32.458217Z",
     "iopub.status.busy": "2022-03-31T11:20:32.457314Z",
     "iopub.status.idle": "2022-03-31T11:20:32.467612Z",
     "shell.execute_reply": "2022-03-31T11:20:32.467060Z",
     "shell.execute_reply.started": "2022-03-31T11:12:02.286854Z"
    },
    "papermill": {
     "duration": 0.260494,
     "end_time": "2022-03-31T11:20:32.467763",
     "exception": false,
     "start_time": "2022-03-31T11:20:32.207269",
     "status": "completed"
    },
    "tags": []
   },
   "outputs": [
    {
     "data": {
      "text/plain": [
       "state       0\n",
       "location    0\n",
       "type        0\n",
       "so2         0\n",
       "no2         0\n",
       "rspm        0\n",
       "spm         0\n",
       "pm2_5       0\n",
       "dtype: int64"
      ]
     },
     "execution_count": 23,
     "metadata": {},
     "output_type": "execute_result"
    }
   ],
   "source": [
    "df.fillna(0, inplace=True)\n",
    "df.isnull().sum()"
   ]
  },
  {
   "cell_type": "code",
   "execution_count": 24,
   "id": "32a1ea25",
   "metadata": {
    "execution": {
     "iopub.execute_input": "2022-03-31T11:20:33.087341Z",
     "iopub.status.busy": "2022-03-31T11:20:33.080390Z",
     "iopub.status.idle": "2022-03-31T11:20:33.091950Z",
     "shell.execute_reply": "2022-03-31T11:20:33.091276Z",
     "shell.execute_reply.started": "2022-03-31T11:12:02.586742Z"
    },
    "papermill": {
     "duration": 0.138426,
     "end_time": "2022-03-31T11:20:33.092113",
     "exception": false,
     "start_time": "2022-03-31T11:20:32.953687",
     "status": "completed"
    },
    "tags": []
   },
   "outputs": [
    {
     "data": {
      "text/html": [
       "<div>\n",
       "<style scoped>\n",
       "    .dataframe tbody tr th:only-of-type {\n",
       "        vertical-align: middle;\n",
       "    }\n",
       "\n",
       "    .dataframe tbody tr th {\n",
       "        vertical-align: top;\n",
       "    }\n",
       "\n",
       "    .dataframe thead th {\n",
       "        text-align: right;\n",
       "    }\n",
       "</style>\n",
       "<table border=\"1\" class=\"dataframe\">\n",
       "  <thead>\n",
       "    <tr style=\"text-align: right;\">\n",
       "      <th></th>\n",
       "      <th>state</th>\n",
       "      <th>location</th>\n",
       "      <th>type</th>\n",
       "      <th>so2</th>\n",
       "      <th>no2</th>\n",
       "      <th>rspm</th>\n",
       "      <th>spm</th>\n",
       "      <th>pm2_5</th>\n",
       "    </tr>\n",
       "  </thead>\n",
       "  <tbody>\n",
       "    <tr>\n",
       "      <th>0</th>\n",
       "      <td>Andhra Pradesh</td>\n",
       "      <td>Hyderabad</td>\n",
       "      <td>Residential, Rural and other Areas</td>\n",
       "      <td>4.8</td>\n",
       "      <td>17.4</td>\n",
       "      <td>0.0</td>\n",
       "      <td>0.0</td>\n",
       "      <td>0.0</td>\n",
       "    </tr>\n",
       "    <tr>\n",
       "      <th>1</th>\n",
       "      <td>Andhra Pradesh</td>\n",
       "      <td>Hyderabad</td>\n",
       "      <td>Industrial Area</td>\n",
       "      <td>3.1</td>\n",
       "      <td>7.0</td>\n",
       "      <td>0.0</td>\n",
       "      <td>0.0</td>\n",
       "      <td>0.0</td>\n",
       "    </tr>\n",
       "    <tr>\n",
       "      <th>2</th>\n",
       "      <td>Andhra Pradesh</td>\n",
       "      <td>Hyderabad</td>\n",
       "      <td>Residential, Rural and other Areas</td>\n",
       "      <td>6.2</td>\n",
       "      <td>28.5</td>\n",
       "      <td>0.0</td>\n",
       "      <td>0.0</td>\n",
       "      <td>0.0</td>\n",
       "    </tr>\n",
       "    <tr>\n",
       "      <th>3</th>\n",
       "      <td>Andhra Pradesh</td>\n",
       "      <td>Hyderabad</td>\n",
       "      <td>Residential, Rural and other Areas</td>\n",
       "      <td>6.3</td>\n",
       "      <td>14.7</td>\n",
       "      <td>0.0</td>\n",
       "      <td>0.0</td>\n",
       "      <td>0.0</td>\n",
       "    </tr>\n",
       "    <tr>\n",
       "      <th>4</th>\n",
       "      <td>Andhra Pradesh</td>\n",
       "      <td>Hyderabad</td>\n",
       "      <td>Industrial Area</td>\n",
       "      <td>4.7</td>\n",
       "      <td>7.5</td>\n",
       "      <td>0.0</td>\n",
       "      <td>0.0</td>\n",
       "      <td>0.0</td>\n",
       "    </tr>\n",
       "    <tr>\n",
       "      <th>...</th>\n",
       "      <td>...</td>\n",
       "      <td>...</td>\n",
       "      <td>...</td>\n",
       "      <td>...</td>\n",
       "      <td>...</td>\n",
       "      <td>...</td>\n",
       "      <td>...</td>\n",
       "      <td>...</td>\n",
       "    </tr>\n",
       "    <tr>\n",
       "      <th>435737</th>\n",
       "      <td>West Bengal</td>\n",
       "      <td>ULUBERIA</td>\n",
       "      <td>RIRUO</td>\n",
       "      <td>22.0</td>\n",
       "      <td>50.0</td>\n",
       "      <td>143.0</td>\n",
       "      <td>0.0</td>\n",
       "      <td>0.0</td>\n",
       "    </tr>\n",
       "    <tr>\n",
       "      <th>435738</th>\n",
       "      <td>West Bengal</td>\n",
       "      <td>ULUBERIA</td>\n",
       "      <td>RIRUO</td>\n",
       "      <td>20.0</td>\n",
       "      <td>46.0</td>\n",
       "      <td>171.0</td>\n",
       "      <td>0.0</td>\n",
       "      <td>0.0</td>\n",
       "    </tr>\n",
       "    <tr>\n",
       "      <th>435739</th>\n",
       "      <td>andaman-and-nicobar-islands</td>\n",
       "      <td>Guwahati</td>\n",
       "      <td>Residential, Rural and other Areas</td>\n",
       "      <td>0.0</td>\n",
       "      <td>0.0</td>\n",
       "      <td>0.0</td>\n",
       "      <td>0.0</td>\n",
       "      <td>0.0</td>\n",
       "    </tr>\n",
       "    <tr>\n",
       "      <th>435740</th>\n",
       "      <td>Lakshadweep</td>\n",
       "      <td>Guwahati</td>\n",
       "      <td>Residential, Rural and other Areas</td>\n",
       "      <td>0.0</td>\n",
       "      <td>0.0</td>\n",
       "      <td>0.0</td>\n",
       "      <td>0.0</td>\n",
       "      <td>0.0</td>\n",
       "    </tr>\n",
       "    <tr>\n",
       "      <th>435741</th>\n",
       "      <td>Tripura</td>\n",
       "      <td>Guwahati</td>\n",
       "      <td>Residential, Rural and other Areas</td>\n",
       "      <td>0.0</td>\n",
       "      <td>0.0</td>\n",
       "      <td>0.0</td>\n",
       "      <td>0.0</td>\n",
       "      <td>0.0</td>\n",
       "    </tr>\n",
       "  </tbody>\n",
       "</table>\n",
       "<p>435742 rows × 8 columns</p>\n",
       "</div>"
      ],
      "text/plain": [
       "                              state   location  \\\n",
       "0                    Andhra Pradesh  Hyderabad   \n",
       "1                    Andhra Pradesh  Hyderabad   \n",
       "2                    Andhra Pradesh  Hyderabad   \n",
       "3                    Andhra Pradesh  Hyderabad   \n",
       "4                    Andhra Pradesh  Hyderabad   \n",
       "...                             ...        ...   \n",
       "435737                  West Bengal   ULUBERIA   \n",
       "435738                  West Bengal   ULUBERIA   \n",
       "435739  andaman-and-nicobar-islands   Guwahati   \n",
       "435740                  Lakshadweep   Guwahati   \n",
       "435741                      Tripura   Guwahati   \n",
       "\n",
       "                                      type   so2   no2   rspm  spm  pm2_5  \n",
       "0       Residential, Rural and other Areas   4.8  17.4    0.0  0.0    0.0  \n",
       "1                          Industrial Area   3.1   7.0    0.0  0.0    0.0  \n",
       "2       Residential, Rural and other Areas   6.2  28.5    0.0  0.0    0.0  \n",
       "3       Residential, Rural and other Areas   6.3  14.7    0.0  0.0    0.0  \n",
       "4                          Industrial Area   4.7   7.5    0.0  0.0    0.0  \n",
       "...                                    ...   ...   ...    ...  ...    ...  \n",
       "435737                               RIRUO  22.0  50.0  143.0  0.0    0.0  \n",
       "435738                               RIRUO  20.0  46.0  171.0  0.0    0.0  \n",
       "435739  Residential, Rural and other Areas   0.0   0.0    0.0  0.0    0.0  \n",
       "435740  Residential, Rural and other Areas   0.0   0.0    0.0  0.0    0.0  \n",
       "435741  Residential, Rural and other Areas   0.0   0.0    0.0  0.0    0.0  \n",
       "\n",
       "[435742 rows x 8 columns]"
      ]
     },
     "execution_count": 24,
     "metadata": {},
     "output_type": "execute_result"
    }
   ],
   "source": [
    "df\n"
   ]
  },
  {
   "cell_type": "code",
   "execution_count": 25,
   "id": "5c1820a4",
   "metadata": {
    "execution": {
     "iopub.execute_input": "2022-03-31T11:20:33.771043Z",
     "iopub.status.busy": "2022-03-31T11:20:33.770315Z",
     "iopub.status.idle": "2022-03-31T11:20:34.071441Z",
     "shell.execute_reply": "2022-03-31T11:20:34.070859Z",
     "shell.execute_reply.started": "2022-03-31T11:12:02.609769Z"
    },
    "papermill": {
     "duration": 0.42081,
     "end_time": "2022-03-31T11:20:34.071614",
     "exception": false,
     "start_time": "2022-03-31T11:20:33.650804",
     "status": "completed"
    },
    "tags": []
   },
   "outputs": [
    {
     "data": {
      "text/html": [
       "<div>\n",
       "<style scoped>\n",
       "    .dataframe tbody tr th:only-of-type {\n",
       "        vertical-align: middle;\n",
       "    }\n",
       "\n",
       "    .dataframe tbody tr th {\n",
       "        vertical-align: top;\n",
       "    }\n",
       "\n",
       "    .dataframe thead th {\n",
       "        text-align: right;\n",
       "    }\n",
       "</style>\n",
       "<table border=\"1\" class=\"dataframe\">\n",
       "  <thead>\n",
       "    <tr style=\"text-align: right;\">\n",
       "      <th></th>\n",
       "      <th>so2</th>\n",
       "      <th>SOi</th>\n",
       "    </tr>\n",
       "  </thead>\n",
       "  <tbody>\n",
       "    <tr>\n",
       "      <th>0</th>\n",
       "      <td>4.8</td>\n",
       "      <td>6.000</td>\n",
       "    </tr>\n",
       "    <tr>\n",
       "      <th>1</th>\n",
       "      <td>3.1</td>\n",
       "      <td>3.875</td>\n",
       "    </tr>\n",
       "    <tr>\n",
       "      <th>2</th>\n",
       "      <td>6.2</td>\n",
       "      <td>7.750</td>\n",
       "    </tr>\n",
       "    <tr>\n",
       "      <th>3</th>\n",
       "      <td>6.3</td>\n",
       "      <td>7.875</td>\n",
       "    </tr>\n",
       "    <tr>\n",
       "      <th>4</th>\n",
       "      <td>4.7</td>\n",
       "      <td>5.875</td>\n",
       "    </tr>\n",
       "  </tbody>\n",
       "</table>\n",
       "</div>"
      ],
      "text/plain": [
       "   so2    SOi\n",
       "0  4.8  6.000\n",
       "1  3.1  3.875\n",
       "2  6.2  7.750\n",
       "3  6.3  7.875\n",
       "4  4.7  5.875"
      ]
     },
     "execution_count": 25,
     "metadata": {},
     "output_type": "execute_result"
    }
   ],
   "source": [
    "def cal_SOi(so2):\n",
    "    si=0\n",
    "    if (so2<=40):\n",
    "     si= so2*(50/40)\n",
    "    elif (so2>40 and so2<=80):\n",
    "     si= 50+(so2-40)*(50/40)\n",
    "    elif (so2>80 and so2<=380):\n",
    "     si= 100+(so2-80)*(100/300)\n",
    "    elif (so2>380 and so2<=800):\n",
    "     si= 200+(so2-380)*(100/420)\n",
    "    elif (so2>800 and so2<=1600):\n",
    "     si= 300+(so2-800)*(100/800)\n",
    "    elif (so2>1600):\n",
    "     si= 400+(so2-1600)*(100/800)\n",
    "    return si\n",
    "df['SOi']=df['so2'].apply(cal_SOi)\n",
    "data= df[['so2','SOi']]\n",
    "data.head()\n"
   ]
  },
  {
   "cell_type": "code",
   "execution_count": 26,
   "id": "ed766e43",
   "metadata": {
    "execution": {
     "iopub.execute_input": "2022-03-31T11:20:34.543821Z",
     "iopub.status.busy": "2022-03-31T11:20:34.543107Z",
     "iopub.status.idle": "2022-03-31T11:20:34.845908Z",
     "shell.execute_reply": "2022-03-31T11:20:34.845262Z",
     "shell.execute_reply.started": "2022-03-31T11:12:02.907496Z"
    },
    "papermill": {
     "duration": 0.442961,
     "end_time": "2022-03-31T11:20:34.846068",
     "exception": false,
     "start_time": "2022-03-31T11:20:34.403107",
     "status": "completed"
    },
    "tags": []
   },
   "outputs": [
    {
     "data": {
      "text/html": [
       "<div>\n",
       "<style scoped>\n",
       "    .dataframe tbody tr th:only-of-type {\n",
       "        vertical-align: middle;\n",
       "    }\n",
       "\n",
       "    .dataframe tbody tr th {\n",
       "        vertical-align: top;\n",
       "    }\n",
       "\n",
       "    .dataframe thead th {\n",
       "        text-align: right;\n",
       "    }\n",
       "</style>\n",
       "<table border=\"1\" class=\"dataframe\">\n",
       "  <thead>\n",
       "    <tr style=\"text-align: right;\">\n",
       "      <th></th>\n",
       "      <th>no2</th>\n",
       "      <th>Noi</th>\n",
       "    </tr>\n",
       "  </thead>\n",
       "  <tbody>\n",
       "    <tr>\n",
       "      <th>0</th>\n",
       "      <td>17.4</td>\n",
       "      <td>21.750</td>\n",
       "    </tr>\n",
       "    <tr>\n",
       "      <th>1</th>\n",
       "      <td>7.0</td>\n",
       "      <td>8.750</td>\n",
       "    </tr>\n",
       "    <tr>\n",
       "      <th>2</th>\n",
       "      <td>28.5</td>\n",
       "      <td>35.625</td>\n",
       "    </tr>\n",
       "    <tr>\n",
       "      <th>3</th>\n",
       "      <td>14.7</td>\n",
       "      <td>18.375</td>\n",
       "    </tr>\n",
       "    <tr>\n",
       "      <th>4</th>\n",
       "      <td>7.5</td>\n",
       "      <td>9.375</td>\n",
       "    </tr>\n",
       "  </tbody>\n",
       "</table>\n",
       "</div>"
      ],
      "text/plain": [
       "    no2     Noi\n",
       "0  17.4  21.750\n",
       "1   7.0   8.750\n",
       "2  28.5  35.625\n",
       "3  14.7  18.375\n",
       "4   7.5   9.375"
      ]
     },
     "execution_count": 26,
     "metadata": {},
     "output_type": "execute_result"
    }
   ],
   "source": [
    "def cal_Noi(no2):\n",
    "    ni=0\n",
    "    if(no2<=40):\n",
    "     ni= no2*50/40\n",
    "    elif(no2>40 and no2<=80):\n",
    "     ni= 50+(no2-40)*(50/40)\n",
    "    elif(no2>80 and no2<=180):\n",
    "     ni= 100+(no2-80)*(100/100)\n",
    "    elif(no2>180 and no2<=280):\n",
    "     ni= 200+(no2-180)*(100/100)\n",
    "    elif(no2>280 and no2<=400):\n",
    "     ni= 300+(no2-280)*(100/120)\n",
    "    else:\n",
    "     ni= 400+(no2-400)*(100/120)\n",
    "    return ni\n",
    "df['Noi']=df['no2'].apply(cal_Noi)\n",
    "data= df[['no2','Noi']]\n",
    "data.head()\n"
   ]
  },
  {
   "cell_type": "code",
   "execution_count": 27,
   "id": "d2185971",
   "metadata": {
    "execution": {
     "iopub.execute_input": "2022-03-31T11:20:35.337271Z",
     "iopub.status.busy": "2022-03-31T11:20:35.335986Z",
     "iopub.status.idle": "2022-03-31T11:20:35.619542Z",
     "shell.execute_reply": "2022-03-31T11:20:35.618998Z",
     "shell.execute_reply.started": "2022-03-31T11:12:03.220174Z"
    },
    "papermill": {
     "duration": 0.410901,
     "end_time": "2022-03-31T11:20:35.619690",
     "exception": false,
     "start_time": "2022-03-31T11:20:35.208789",
     "status": "completed"
    },
    "tags": []
   },
   "outputs": [
    {
     "data": {
      "text/html": [
       "<div>\n",
       "<style scoped>\n",
       "    .dataframe tbody tr th:only-of-type {\n",
       "        vertical-align: middle;\n",
       "    }\n",
       "\n",
       "    .dataframe tbody tr th {\n",
       "        vertical-align: top;\n",
       "    }\n",
       "\n",
       "    .dataframe thead th {\n",
       "        text-align: right;\n",
       "    }\n",
       "</style>\n",
       "<table border=\"1\" class=\"dataframe\">\n",
       "  <thead>\n",
       "    <tr style=\"text-align: right;\">\n",
       "      <th></th>\n",
       "      <th>rspm</th>\n",
       "      <th>Rpi</th>\n",
       "    </tr>\n",
       "  </thead>\n",
       "  <tbody>\n",
       "    <tr>\n",
       "      <th>0</th>\n",
       "      <td>0.0</td>\n",
       "      <td>0.0</td>\n",
       "    </tr>\n",
       "    <tr>\n",
       "      <th>1</th>\n",
       "      <td>0.0</td>\n",
       "      <td>0.0</td>\n",
       "    </tr>\n",
       "    <tr>\n",
       "      <th>2</th>\n",
       "      <td>0.0</td>\n",
       "      <td>0.0</td>\n",
       "    </tr>\n",
       "    <tr>\n",
       "      <th>3</th>\n",
       "      <td>0.0</td>\n",
       "      <td>0.0</td>\n",
       "    </tr>\n",
       "    <tr>\n",
       "      <th>4</th>\n",
       "      <td>0.0</td>\n",
       "      <td>0.0</td>\n",
       "    </tr>\n",
       "  </tbody>\n",
       "</table>\n",
       "</div>"
      ],
      "text/plain": [
       "   rspm  Rpi\n",
       "0   0.0  0.0\n",
       "1   0.0  0.0\n",
       "2   0.0  0.0\n",
       "3   0.0  0.0\n",
       "4   0.0  0.0"
      ]
     },
     "execution_count": 27,
     "metadata": {},
     "output_type": "execute_result"
    }
   ],
   "source": [
    "def cal_RSPMI(rspm):\n",
    "    rpi=0\n",
    "    if(rpi<=30):\n",
    "     rpi=rpi*50/30\n",
    "    elif(rpi>30 and rpi<=60):\n",
    "     rpi=50+(rpi-30)*50/30\n",
    "    elif(rpi>60 and rpi<=90):\n",
    "     rpi=100+(rpi-60)*100/30\n",
    "    elif(rpi>90 and rpi<=120):\n",
    "     rpi=200+(rpi-90)*100/30\n",
    "    elif(rpi>120 and rpi<=250):\n",
    "     rpi=300+(rpi-120)*(100/130)\n",
    "    else:\n",
    "     rpi=400+(rpi-250)*(100/130)\n",
    "    return rpi\n",
    "df['Rpi']=df['rspm'].apply(cal_RSPMI)\n",
    "data= df[['rspm','Rpi']]\n",
    "data.head()\n"
   ]
  },
  {
   "cell_type": "code",
   "execution_count": 28,
   "id": "c452ad6a",
   "metadata": {
    "execution": {
     "iopub.execute_input": "2022-03-31T11:20:36.092021Z",
     "iopub.status.busy": "2022-03-31T11:20:36.091290Z",
     "iopub.status.idle": "2022-03-31T11:20:36.455847Z",
     "shell.execute_reply": "2022-03-31T11:20:36.455175Z",
     "shell.execute_reply.started": "2022-03-31T11:12:03.498616Z"
    },
    "papermill": {
     "duration": 0.483833,
     "end_time": "2022-03-31T11:20:36.455987",
     "exception": false,
     "start_time": "2022-03-31T11:20:35.972154",
     "status": "completed"
    },
    "tags": []
   },
   "outputs": [
    {
     "data": {
      "text/html": [
       "<div>\n",
       "<style scoped>\n",
       "    .dataframe tbody tr th:only-of-type {\n",
       "        vertical-align: middle;\n",
       "    }\n",
       "\n",
       "    .dataframe tbody tr th {\n",
       "        vertical-align: top;\n",
       "    }\n",
       "\n",
       "    .dataframe thead th {\n",
       "        text-align: right;\n",
       "    }\n",
       "</style>\n",
       "<table border=\"1\" class=\"dataframe\">\n",
       "  <thead>\n",
       "    <tr style=\"text-align: right;\">\n",
       "      <th></th>\n",
       "      <th>spm</th>\n",
       "      <th>SPMi</th>\n",
       "    </tr>\n",
       "  </thead>\n",
       "  <tbody>\n",
       "    <tr>\n",
       "      <th>0</th>\n",
       "      <td>0.0</td>\n",
       "      <td>0.0</td>\n",
       "    </tr>\n",
       "    <tr>\n",
       "      <th>1</th>\n",
       "      <td>0.0</td>\n",
       "      <td>0.0</td>\n",
       "    </tr>\n",
       "    <tr>\n",
       "      <th>2</th>\n",
       "      <td>0.0</td>\n",
       "      <td>0.0</td>\n",
       "    </tr>\n",
       "    <tr>\n",
       "      <th>3</th>\n",
       "      <td>0.0</td>\n",
       "      <td>0.0</td>\n",
       "    </tr>\n",
       "    <tr>\n",
       "      <th>4</th>\n",
       "      <td>0.0</td>\n",
       "      <td>0.0</td>\n",
       "    </tr>\n",
       "  </tbody>\n",
       "</table>\n",
       "</div>"
      ],
      "text/plain": [
       "   spm  SPMi\n",
       "0  0.0   0.0\n",
       "1  0.0   0.0\n",
       "2  0.0   0.0\n",
       "3  0.0   0.0\n",
       "4  0.0   0.0"
      ]
     },
     "execution_count": 28,
     "metadata": {},
     "output_type": "execute_result"
    }
   ],
   "source": [
    "def cal_SPMi(spm):\n",
    "    spi=0\n",
    "    if(spm<=50):\n",
    "     spi=spm*50/50\n",
    "    elif(spm>50 and spm<=100):\n",
    "     spi=50+(spm-50)*(50/50)\n",
    "    elif(spm>100 and spm<=250):\n",
    "     spi= 100+(spm-100)*(100/150)\n",
    "    elif(spm>250 and spm<=350):\n",
    "     spi=200+(spm-250)*(100/100)\n",
    "    elif(spm>350 and spm<=430):\n",
    "     spi=300+(spm-350)*(100/80)\n",
    "    else:\n",
    "     spi=400+(spm-430)*(100/430)\n",
    "    return spi\n",
    "   \n",
    "df['SPMi']=df['spm'].apply(cal_SPMi)\n",
    "data= df[['spm','SPMi']]\n",
    "data.head()\n"
   ]
  },
  {
   "cell_type": "code",
   "execution_count": 29,
   "id": "b4a5ef1d",
   "metadata": {
    "execution": {
     "iopub.execute_input": "2022-03-31T11:20:36.912694Z",
     "iopub.status.busy": "2022-03-31T11:20:36.912034Z",
     "iopub.status.idle": "2022-03-31T11:20:49.625435Z",
     "shell.execute_reply": "2022-03-31T11:20:49.625889Z",
     "shell.execute_reply.started": "2022-03-31T11:12:03.871875Z"
    },
    "papermill": {
     "duration": 12.829979,
     "end_time": "2022-03-31T11:20:49.626070",
     "exception": false,
     "start_time": "2022-03-31T11:20:36.796091",
     "status": "completed"
    },
    "tags": []
   },
   "outputs": [
    {
     "data": {
      "text/html": [
       "<div>\n",
       "<style scoped>\n",
       "    .dataframe tbody tr th:only-of-type {\n",
       "        vertical-align: middle;\n",
       "    }\n",
       "\n",
       "    .dataframe tbody tr th {\n",
       "        vertical-align: top;\n",
       "    }\n",
       "\n",
       "    .dataframe thead th {\n",
       "        text-align: right;\n",
       "    }\n",
       "</style>\n",
       "<table border=\"1\" class=\"dataframe\">\n",
       "  <thead>\n",
       "    <tr style=\"text-align: right;\">\n",
       "      <th></th>\n",
       "      <th>state</th>\n",
       "      <th>SOi</th>\n",
       "      <th>Noi</th>\n",
       "      <th>Rpi</th>\n",
       "      <th>SPMi</th>\n",
       "      <th>AQI</th>\n",
       "    </tr>\n",
       "  </thead>\n",
       "  <tbody>\n",
       "    <tr>\n",
       "      <th>0</th>\n",
       "      <td>Andhra Pradesh</td>\n",
       "      <td>6.000</td>\n",
       "      <td>21.750</td>\n",
       "      <td>0.0</td>\n",
       "      <td>0.0</td>\n",
       "      <td>21.750</td>\n",
       "    </tr>\n",
       "    <tr>\n",
       "      <th>1</th>\n",
       "      <td>Andhra Pradesh</td>\n",
       "      <td>3.875</td>\n",
       "      <td>8.750</td>\n",
       "      <td>0.0</td>\n",
       "      <td>0.0</td>\n",
       "      <td>8.750</td>\n",
       "    </tr>\n",
       "    <tr>\n",
       "      <th>2</th>\n",
       "      <td>Andhra Pradesh</td>\n",
       "      <td>7.750</td>\n",
       "      <td>35.625</td>\n",
       "      <td>0.0</td>\n",
       "      <td>0.0</td>\n",
       "      <td>35.625</td>\n",
       "    </tr>\n",
       "    <tr>\n",
       "      <th>3</th>\n",
       "      <td>Andhra Pradesh</td>\n",
       "      <td>7.875</td>\n",
       "      <td>18.375</td>\n",
       "      <td>0.0</td>\n",
       "      <td>0.0</td>\n",
       "      <td>18.375</td>\n",
       "    </tr>\n",
       "    <tr>\n",
       "      <th>4</th>\n",
       "      <td>Andhra Pradesh</td>\n",
       "      <td>5.875</td>\n",
       "      <td>9.375</td>\n",
       "      <td>0.0</td>\n",
       "      <td>0.0</td>\n",
       "      <td>9.375</td>\n",
       "    </tr>\n",
       "  </tbody>\n",
       "</table>\n",
       "</div>"
      ],
      "text/plain": [
       "            state    SOi     Noi  Rpi  SPMi     AQI\n",
       "0  Andhra Pradesh  6.000  21.750  0.0   0.0  21.750\n",
       "1  Andhra Pradesh  3.875   8.750  0.0   0.0   8.750\n",
       "2  Andhra Pradesh  7.750  35.625  0.0   0.0  35.625\n",
       "3  Andhra Pradesh  7.875  18.375  0.0   0.0  18.375\n",
       "4  Andhra Pradesh  5.875   9.375  0.0   0.0   9.375"
      ]
     },
     "execution_count": 29,
     "metadata": {},
     "output_type": "execute_result"
    }
   ],
   "source": [
    "def cal_aqi(si,ni,rspmi,spmi):\n",
    "    aqi=0\n",
    "    if(si>ni and si>rspmi and si>spmi):\n",
    "     aqi=si\n",
    "    if(ni>si and ni>rspmi and ni>spmi):\n",
    "     aqi=ni\n",
    "    if(rspmi>si and rspmi>ni and rspmi>spmi):\n",
    "     aqi=rspmi\n",
    "    if(spmi>si and spmi>ni and spmi>rspmi):\n",
    "     aqi=spmi\n",
    "    return aqi\n",
    "\n",
    "df['AQI']=df.apply(lambda x:cal_aqi(x['SOi'],x['Noi'],x['Rpi'],x['SPMi']),axis=1)\n",
    "data= df[['state','SOi','Noi','Rpi','SPMi','AQI']]\n",
    "data.head()\n"
   ]
  },
  {
   "cell_type": "code",
   "execution_count": 30,
   "id": "12381865",
   "metadata": {
    "execution": {
     "iopub.execute_input": "2022-03-31T11:20:49.861885Z",
     "iopub.status.busy": "2022-03-31T11:20:49.861147Z",
     "iopub.status.idle": "2022-03-31T11:20:50.087579Z",
     "shell.execute_reply": "2022-03-31T11:20:50.088097Z",
     "shell.execute_reply.started": "2022-03-31T11:12:16.325157Z"
    },
    "papermill": {
     "duration": 0.349057,
     "end_time": "2022-03-31T11:20:50.088265",
     "exception": false,
     "start_time": "2022-03-31T11:20:49.739208",
     "status": "completed"
    },
    "tags": []
   },
   "outputs": [
    {
     "data": {
      "text/html": [
       "<div>\n",
       "<style scoped>\n",
       "    .dataframe tbody tr th:only-of-type {\n",
       "        vertical-align: middle;\n",
       "    }\n",
       "\n",
       "    .dataframe tbody tr th {\n",
       "        vertical-align: top;\n",
       "    }\n",
       "\n",
       "    .dataframe thead th {\n",
       "        text-align: right;\n",
       "    }\n",
       "</style>\n",
       "<table border=\"1\" class=\"dataframe\">\n",
       "  <thead>\n",
       "    <tr style=\"text-align: right;\">\n",
       "      <th></th>\n",
       "      <th>state</th>\n",
       "      <th>location</th>\n",
       "      <th>type</th>\n",
       "      <th>so2</th>\n",
       "      <th>no2</th>\n",
       "      <th>rspm</th>\n",
       "      <th>spm</th>\n",
       "      <th>pm2_5</th>\n",
       "      <th>SOi</th>\n",
       "      <th>Noi</th>\n",
       "      <th>Rpi</th>\n",
       "      <th>SPMi</th>\n",
       "      <th>AQI</th>\n",
       "      <th>AQI_Range</th>\n",
       "    </tr>\n",
       "  </thead>\n",
       "  <tbody>\n",
       "    <tr>\n",
       "      <th>0</th>\n",
       "      <td>Andhra Pradesh</td>\n",
       "      <td>Hyderabad</td>\n",
       "      <td>Residential, Rural and other Areas</td>\n",
       "      <td>4.8</td>\n",
       "      <td>17.4</td>\n",
       "      <td>0.0</td>\n",
       "      <td>0.0</td>\n",
       "      <td>0.0</td>\n",
       "      <td>6.000</td>\n",
       "      <td>21.750</td>\n",
       "      <td>0.0</td>\n",
       "      <td>0.0</td>\n",
       "      <td>21.750</td>\n",
       "      <td>Good</td>\n",
       "    </tr>\n",
       "    <tr>\n",
       "      <th>1</th>\n",
       "      <td>Andhra Pradesh</td>\n",
       "      <td>Hyderabad</td>\n",
       "      <td>Industrial Area</td>\n",
       "      <td>3.1</td>\n",
       "      <td>7.0</td>\n",
       "      <td>0.0</td>\n",
       "      <td>0.0</td>\n",
       "      <td>0.0</td>\n",
       "      <td>3.875</td>\n",
       "      <td>8.750</td>\n",
       "      <td>0.0</td>\n",
       "      <td>0.0</td>\n",
       "      <td>8.750</td>\n",
       "      <td>Good</td>\n",
       "    </tr>\n",
       "    <tr>\n",
       "      <th>2</th>\n",
       "      <td>Andhra Pradesh</td>\n",
       "      <td>Hyderabad</td>\n",
       "      <td>Residential, Rural and other Areas</td>\n",
       "      <td>6.2</td>\n",
       "      <td>28.5</td>\n",
       "      <td>0.0</td>\n",
       "      <td>0.0</td>\n",
       "      <td>0.0</td>\n",
       "      <td>7.750</td>\n",
       "      <td>35.625</td>\n",
       "      <td>0.0</td>\n",
       "      <td>0.0</td>\n",
       "      <td>35.625</td>\n",
       "      <td>Good</td>\n",
       "    </tr>\n",
       "    <tr>\n",
       "      <th>3</th>\n",
       "      <td>Andhra Pradesh</td>\n",
       "      <td>Hyderabad</td>\n",
       "      <td>Residential, Rural and other Areas</td>\n",
       "      <td>6.3</td>\n",
       "      <td>14.7</td>\n",
       "      <td>0.0</td>\n",
       "      <td>0.0</td>\n",
       "      <td>0.0</td>\n",
       "      <td>7.875</td>\n",
       "      <td>18.375</td>\n",
       "      <td>0.0</td>\n",
       "      <td>0.0</td>\n",
       "      <td>18.375</td>\n",
       "      <td>Good</td>\n",
       "    </tr>\n",
       "    <tr>\n",
       "      <th>4</th>\n",
       "      <td>Andhra Pradesh</td>\n",
       "      <td>Hyderabad</td>\n",
       "      <td>Industrial Area</td>\n",
       "      <td>4.7</td>\n",
       "      <td>7.5</td>\n",
       "      <td>0.0</td>\n",
       "      <td>0.0</td>\n",
       "      <td>0.0</td>\n",
       "      <td>5.875</td>\n",
       "      <td>9.375</td>\n",
       "      <td>0.0</td>\n",
       "      <td>0.0</td>\n",
       "      <td>9.375</td>\n",
       "      <td>Good</td>\n",
       "    </tr>\n",
       "  </tbody>\n",
       "</table>\n",
       "</div>"
      ],
      "text/plain": [
       "            state   location                                type  so2   no2  \\\n",
       "0  Andhra Pradesh  Hyderabad  Residential, Rural and other Areas  4.8  17.4   \n",
       "1  Andhra Pradesh  Hyderabad                     Industrial Area  3.1   7.0   \n",
       "2  Andhra Pradesh  Hyderabad  Residential, Rural and other Areas  6.2  28.5   \n",
       "3  Andhra Pradesh  Hyderabad  Residential, Rural and other Areas  6.3  14.7   \n",
       "4  Andhra Pradesh  Hyderabad                     Industrial Area  4.7   7.5   \n",
       "\n",
       "   rspm  spm  pm2_5    SOi     Noi  Rpi  SPMi     AQI AQI_Range  \n",
       "0   0.0  0.0    0.0  6.000  21.750  0.0   0.0  21.750      Good  \n",
       "1   0.0  0.0    0.0  3.875   8.750  0.0   0.0   8.750      Good  \n",
       "2   0.0  0.0    0.0  7.750  35.625  0.0   0.0  35.625      Good  \n",
       "3   0.0  0.0    0.0  7.875  18.375  0.0   0.0  18.375      Good  \n",
       "4   0.0  0.0    0.0  5.875   9.375  0.0   0.0   9.375      Good  "
      ]
     },
     "execution_count": 30,
     "metadata": {},
     "output_type": "execute_result"
    }
   ],
   "source": [
    "def AQI_Range(x):\n",
    "    if x<=50:\n",
    "        return \"Good\"\n",
    "    elif x>50 and x<=100:\n",
    "        return \"Moderate\"\n",
    "    elif x>100 and x<=200:\n",
    "        return \"Poor\"\n",
    "    elif x>200 and x<=300:\n",
    "        return \"Unhealthy\"\n",
    "    elif x>300 and x<=400:\n",
    "        return \"Very unhealthy\"\n",
    "    elif x>400:\n",
    "        return \"Hazardous\"\n",
    "\n",
    "df['AQI_Range'] = df['AQI'] .apply(AQI_Range)\n",
    "df.head()\n"
   ]
  },
  {
   "cell_type": "code",
   "execution_count": 31,
   "id": "7bf77384",
   "metadata": {
    "execution": {
     "iopub.execute_input": "2022-03-31T11:20:50.328675Z",
     "iopub.status.busy": "2022-03-31T11:20:50.328009Z",
     "iopub.status.idle": "2022-03-31T11:20:50.385014Z",
     "shell.execute_reply": "2022-03-31T11:20:50.384524Z",
     "shell.execute_reply.started": "2022-03-31T11:12:16.556642Z"
    },
    "papermill": {
     "duration": 0.172357,
     "end_time": "2022-03-31T11:20:50.385152",
     "exception": false,
     "start_time": "2022-03-31T11:20:50.212795",
     "status": "completed"
    },
    "tags": []
   },
   "outputs": [
    {
     "data": {
      "text/plain": [
       "Good              219643\n",
       "Poor               93272\n",
       "Moderate           56571\n",
       "Unhealthy          31733\n",
       "Hazardous          18700\n",
       "Very unhealthy     15823\n",
       "Name: AQI_Range, dtype: int64"
      ]
     },
     "execution_count": 31,
     "metadata": {},
     "output_type": "execute_result"
    }
   ],
   "source": [
    "df['AQI_Range'].value_counts()\n"
   ]
  },
  {
   "cell_type": "code",
   "execution_count": 32,
   "id": "82038c01",
   "metadata": {
    "execution": {
     "iopub.execute_input": "2022-03-31T11:20:50.845336Z",
     "iopub.status.busy": "2022-03-31T11:20:50.844679Z",
     "iopub.status.idle": "2022-03-31T11:20:50.876231Z",
     "shell.execute_reply": "2022-03-31T11:20:50.875726Z",
     "shell.execute_reply.started": "2022-03-31T11:12:16.617180Z"
    },
    "papermill": {
     "duration": 0.150442,
     "end_time": "2022-03-31T11:20:50.876369",
     "exception": false,
     "start_time": "2022-03-31T11:20:50.725927",
     "status": "completed"
    },
    "tags": []
   },
   "outputs": [
    {
     "data": {
      "text/html": [
       "<div>\n",
       "<style scoped>\n",
       "    .dataframe tbody tr th:only-of-type {\n",
       "        vertical-align: middle;\n",
       "    }\n",
       "\n",
       "    .dataframe tbody tr th {\n",
       "        vertical-align: top;\n",
       "    }\n",
       "\n",
       "    .dataframe thead th {\n",
       "        text-align: right;\n",
       "    }\n",
       "</style>\n",
       "<table border=\"1\" class=\"dataframe\">\n",
       "  <thead>\n",
       "    <tr style=\"text-align: right;\">\n",
       "      <th></th>\n",
       "      <th>SOi</th>\n",
       "      <th>Noi</th>\n",
       "      <th>Rpi</th>\n",
       "      <th>SPMi</th>\n",
       "    </tr>\n",
       "  </thead>\n",
       "  <tbody>\n",
       "    <tr>\n",
       "      <th>0</th>\n",
       "      <td>6.000</td>\n",
       "      <td>21.750</td>\n",
       "      <td>0.0</td>\n",
       "      <td>0.0</td>\n",
       "    </tr>\n",
       "    <tr>\n",
       "      <th>1</th>\n",
       "      <td>3.875</td>\n",
       "      <td>8.750</td>\n",
       "      <td>0.0</td>\n",
       "      <td>0.0</td>\n",
       "    </tr>\n",
       "    <tr>\n",
       "      <th>2</th>\n",
       "      <td>7.750</td>\n",
       "      <td>35.625</td>\n",
       "      <td>0.0</td>\n",
       "      <td>0.0</td>\n",
       "    </tr>\n",
       "    <tr>\n",
       "      <th>3</th>\n",
       "      <td>7.875</td>\n",
       "      <td>18.375</td>\n",
       "      <td>0.0</td>\n",
       "      <td>0.0</td>\n",
       "    </tr>\n",
       "    <tr>\n",
       "      <th>4</th>\n",
       "      <td>5.875</td>\n",
       "      <td>9.375</td>\n",
       "      <td>0.0</td>\n",
       "      <td>0.0</td>\n",
       "    </tr>\n",
       "  </tbody>\n",
       "</table>\n",
       "</div>"
      ],
      "text/plain": [
       "     SOi     Noi  Rpi  SPMi\n",
       "0  6.000  21.750  0.0   0.0\n",
       "1  3.875   8.750  0.0   0.0\n",
       "2  7.750  35.625  0.0   0.0\n",
       "3  7.875  18.375  0.0   0.0\n",
       "4  5.875   9.375  0.0   0.0"
      ]
     },
     "execution_count": 32,
     "metadata": {},
     "output_type": "execute_result"
    }
   ],
   "source": [
    "X=df[['SOi','Noi','Rpi','SPMi']]\n",
    "Y=df['AQI']\n",
    "X.head()\n"
   ]
  },
  {
   "cell_type": "code",
   "execution_count": 33,
   "id": "6cc6411d",
   "metadata": {
    "execution": {
     "iopub.execute_input": "2022-03-31T11:21:57.759378Z",
     "iopub.status.busy": "2022-03-31T11:21:57.758687Z",
     "iopub.status.idle": "2022-03-31T11:21:57.762411Z",
     "shell.execute_reply": "2022-03-31T11:21:57.763042Z",
     "shell.execute_reply.started": "2022-03-31T11:13:18.117271Z"
    },
    "papermill": {
     "duration": 0.125585,
     "end_time": "2022-03-31T11:21:57.763215",
     "exception": false,
     "start_time": "2022-03-31T11:21:57.637630",
     "status": "completed"
    },
    "tags": []
   },
   "outputs": [],
   "source": [
    "from sklearn.linear_model import LogisticRegression\n",
    "from sklearn.tree import DecisionTreeClassifier\n",
    "from sklearn.ensemble import RandomForestClassifier\n",
    "from sklearn.neighbors import KNeighborsClassifier"
   ]
  },
  {
   "cell_type": "code",
   "execution_count": 34,
   "id": "d0c4fd42",
   "metadata": {
    "execution": {
     "iopub.execute_input": "2022-03-31T11:21:58.012707Z",
     "iopub.status.busy": "2022-03-31T11:21:58.011800Z",
     "iopub.status.idle": "2022-03-31T11:21:58.014967Z",
     "shell.execute_reply": "2022-03-31T11:21:58.014305Z",
     "shell.execute_reply.started": "2022-03-31T11:13:18.123592Z"
    },
    "papermill": {
     "duration": 0.132241,
     "end_time": "2022-03-31T11:21:58.015121",
     "exception": false,
     "start_time": "2022-03-31T11:21:57.882880",
     "status": "completed"
    },
    "tags": []
   },
   "outputs": [],
   "source": [
    "X = df[['SOi','Noi','Rpi','SPMi']]\n",
    "Y = df['AQI_Range']\n",
    "ac=[]"
   ]
  },
  {
   "cell_type": "code",
   "execution_count": 35,
   "id": "ef88c54c",
   "metadata": {},
   "outputs": [
    {
     "data": {
      "text/html": [
       "<div>\n",
       "<style scoped>\n",
       "    .dataframe tbody tr th:only-of-type {\n",
       "        vertical-align: middle;\n",
       "    }\n",
       "\n",
       "    .dataframe tbody tr th {\n",
       "        vertical-align: top;\n",
       "    }\n",
       "\n",
       "    .dataframe thead th {\n",
       "        text-align: right;\n",
       "    }\n",
       "</style>\n",
       "<table border=\"1\" class=\"dataframe\">\n",
       "  <thead>\n",
       "    <tr style=\"text-align: right;\">\n",
       "      <th></th>\n",
       "      <th>state</th>\n",
       "      <th>location</th>\n",
       "      <th>type</th>\n",
       "      <th>so2</th>\n",
       "      <th>no2</th>\n",
       "      <th>rspm</th>\n",
       "      <th>spm</th>\n",
       "      <th>pm2_5</th>\n",
       "      <th>SOi</th>\n",
       "      <th>Noi</th>\n",
       "      <th>Rpi</th>\n",
       "      <th>SPMi</th>\n",
       "      <th>AQI</th>\n",
       "      <th>AQI_Range</th>\n",
       "    </tr>\n",
       "  </thead>\n",
       "  <tbody>\n",
       "    <tr>\n",
       "      <th>0</th>\n",
       "      <td>Andhra Pradesh</td>\n",
       "      <td>Hyderabad</td>\n",
       "      <td>Residential, Rural and other Areas</td>\n",
       "      <td>4.8</td>\n",
       "      <td>17.4</td>\n",
       "      <td>0.0</td>\n",
       "      <td>0.0</td>\n",
       "      <td>0.0</td>\n",
       "      <td>6.000</td>\n",
       "      <td>21.750</td>\n",
       "      <td>0.0</td>\n",
       "      <td>0.0</td>\n",
       "      <td>21.750</td>\n",
       "      <td>1</td>\n",
       "    </tr>\n",
       "    <tr>\n",
       "      <th>1</th>\n",
       "      <td>Andhra Pradesh</td>\n",
       "      <td>Hyderabad</td>\n",
       "      <td>Industrial Area</td>\n",
       "      <td>3.1</td>\n",
       "      <td>7.0</td>\n",
       "      <td>0.0</td>\n",
       "      <td>0.0</td>\n",
       "      <td>0.0</td>\n",
       "      <td>3.875</td>\n",
       "      <td>8.750</td>\n",
       "      <td>0.0</td>\n",
       "      <td>0.0</td>\n",
       "      <td>8.750</td>\n",
       "      <td>1</td>\n",
       "    </tr>\n",
       "    <tr>\n",
       "      <th>2</th>\n",
       "      <td>Andhra Pradesh</td>\n",
       "      <td>Hyderabad</td>\n",
       "      <td>Residential, Rural and other Areas</td>\n",
       "      <td>6.2</td>\n",
       "      <td>28.5</td>\n",
       "      <td>0.0</td>\n",
       "      <td>0.0</td>\n",
       "      <td>0.0</td>\n",
       "      <td>7.750</td>\n",
       "      <td>35.625</td>\n",
       "      <td>0.0</td>\n",
       "      <td>0.0</td>\n",
       "      <td>35.625</td>\n",
       "      <td>1</td>\n",
       "    </tr>\n",
       "    <tr>\n",
       "      <th>3</th>\n",
       "      <td>Andhra Pradesh</td>\n",
       "      <td>Hyderabad</td>\n",
       "      <td>Residential, Rural and other Areas</td>\n",
       "      <td>6.3</td>\n",
       "      <td>14.7</td>\n",
       "      <td>0.0</td>\n",
       "      <td>0.0</td>\n",
       "      <td>0.0</td>\n",
       "      <td>7.875</td>\n",
       "      <td>18.375</td>\n",
       "      <td>0.0</td>\n",
       "      <td>0.0</td>\n",
       "      <td>18.375</td>\n",
       "      <td>1</td>\n",
       "    </tr>\n",
       "    <tr>\n",
       "      <th>4</th>\n",
       "      <td>Andhra Pradesh</td>\n",
       "      <td>Hyderabad</td>\n",
       "      <td>Industrial Area</td>\n",
       "      <td>4.7</td>\n",
       "      <td>7.5</td>\n",
       "      <td>0.0</td>\n",
       "      <td>0.0</td>\n",
       "      <td>0.0</td>\n",
       "      <td>5.875</td>\n",
       "      <td>9.375</td>\n",
       "      <td>0.0</td>\n",
       "      <td>0.0</td>\n",
       "      <td>9.375</td>\n",
       "      <td>1</td>\n",
       "    </tr>\n",
       "  </tbody>\n",
       "</table>\n",
       "</div>"
      ],
      "text/plain": [
       "            state   location                                type  so2   no2  \\\n",
       "0  Andhra Pradesh  Hyderabad  Residential, Rural and other Areas  4.8  17.4   \n",
       "1  Andhra Pradesh  Hyderabad                     Industrial Area  3.1   7.0   \n",
       "2  Andhra Pradesh  Hyderabad  Residential, Rural and other Areas  6.2  28.5   \n",
       "3  Andhra Pradesh  Hyderabad  Residential, Rural and other Areas  6.3  14.7   \n",
       "4  Andhra Pradesh  Hyderabad                     Industrial Area  4.7   7.5   \n",
       "\n",
       "   rspm  spm  pm2_5    SOi     Noi  Rpi  SPMi     AQI  AQI_Range  \n",
       "0   0.0  0.0    0.0  6.000  21.750  0.0   0.0  21.750          1  \n",
       "1   0.0  0.0    0.0  3.875   8.750  0.0   0.0   8.750          1  \n",
       "2   0.0  0.0    0.0  7.750  35.625  0.0   0.0  35.625          1  \n",
       "3   0.0  0.0    0.0  7.875  18.375  0.0   0.0  18.375          1  \n",
       "4   0.0  0.0    0.0  5.875   9.375  0.0   0.0   9.375          1  "
      ]
     },
     "execution_count": 35,
     "metadata": {},
     "output_type": "execute_result"
    }
   ],
   "source": [
    "def AQI_Range(x):\n",
    "    if x<=50:\n",
    "        return 1\n",
    "    elif x>50 and x<=100:\n",
    "        return 2\n",
    "    elif x>100 and x<=200:\n",
    "        return 3\n",
    "    elif x>200 and x<=300:\n",
    "        return 4\n",
    "    elif x>300 and x<=400:\n",
    "        return 5\n",
    "    elif x>400:\n",
    "        return 6\n",
    "\n",
    "df['AQI_Range'] = df['AQI'] .apply(AQI_Range)\n",
    "df.head()"
   ]
  },
  {
   "cell_type": "code",
   "execution_count": 36,
   "id": "d40d1af2",
   "metadata": {},
   "outputs": [],
   "source": [
    "X2 = df[['SOi','Noi','Rpi','SPMi']]\n",
    "Y2 = df['AQI_Range']\n",
    "X_train, X_test, y_train, y_test = train_test_split(X2, Y2, test_size=0.33, random_state=50)"
   ]
  },
  {
   "cell_type": "code",
   "execution_count": 37,
   "id": "d6a29f2a",
   "metadata": {},
   "outputs": [
    {
     "name": "stdout",
     "output_type": "stream",
     "text": [
      "Epoch 1/2\n",
      "9124/9124 [==============================] - 15s 2ms/step - loss: -85205.1406\n",
      "Epoch 2/2\n",
      "9124/9124 [==============================] - 14s 2ms/step - loss: -488271.7188\n"
     ]
    }
   ],
   "source": [
    "from keras.models import Sequential\n",
    "\n",
    "from keras.layers import Dense\n",
    "model = Sequential()\n",
    "model.add(Dense(11,activation='relu',input_dim=4))\n",
    "model.add(Dense(1,activation='sigmoid'))\n",
    "\n",
    "model.compile(loss='binary_crossentropy',optimizer='adam')\n",
    "model.fit(X_train,y_train,epochs=2)\n",
    "\n",
    "\n",
    "ac.append(accuracy_score(model,y_test,sample_weight=0.2)*100)"
   ]
  },
  {
   "cell_type": "code",
   "execution_count": 38,
   "id": "ba938207",
   "metadata": {},
   "outputs": [],
   "source": [
    "from sklearn.preprocessing import PolynomialFeatures\n",
    "poly_reg=PolynomialFeatures(degree=4)\n",
    "X_poly=poly_reg.fit_transform(X_train)\n",
    "poly_reg.fit(X_poly,y_train)\n",
    "model=LinearRegression()\n",
    "model.fit(X_poly,y_train)\n",
    "\n",
    "ac.append(accuracy_score(model,y_test)*100)"
   ]
  },
  {
   "cell_type": "code",
   "execution_count": 43,
   "id": "ae1b59c7",
   "metadata": {},
   "outputs": [
    {
     "data": {
      "text/html": [
       "<div>\n",
       "<style scoped>\n",
       "    .dataframe tbody tr th:only-of-type {\n",
       "        vertical-align: middle;\n",
       "    }\n",
       "\n",
       "    .dataframe tbody tr th {\n",
       "        vertical-align: top;\n",
       "    }\n",
       "\n",
       "    .dataframe thead th {\n",
       "        text-align: right;\n",
       "    }\n",
       "</style>\n",
       "<table border=\"1\" class=\"dataframe\">\n",
       "  <thead>\n",
       "    <tr style=\"text-align: right;\">\n",
       "      <th></th>\n",
       "      <th>Agorithms</th>\n",
       "      <th>accuracy</th>\n",
       "    </tr>\n",
       "  </thead>\n",
       "  <tbody>\n",
       "    <tr>\n",
       "      <th>0</th>\n",
       "      <td>CNN</td>\n",
       "      <td>97.29</td>\n",
       "    </tr>\n",
       "    <tr>\n",
       "      <th>1</th>\n",
       "      <td>Polynomial Regression</td>\n",
       "      <td>90.33</td>\n",
       "    </tr>\n",
       "  </tbody>\n",
       "</table>\n",
       "</div>"
      ],
      "text/plain": [
       "               Agorithms  accuracy\n",
       "0                    CNN     97.29\n",
       "1  Polynomial Regression     90.33"
      ]
     },
     "execution_count": 43,
     "metadata": {},
     "output_type": "execute_result"
    },
    {
     "data": {
      "image/png": "[encoded data removed]",
      "text/plain": [
       "<Figure size 720x504 with 1 Axes>"
      ]
     },
     "metadata": {},
     "output_type": "display_data"
    }
   ],
   "source": [
    "import numpy as np\n",
    "import seaborn as sns\n",
    "import matplotlib as plt\n",
    "from sklearn.linear_model import LinearRegression\n",
    "plt.style.use('ggplot')\n",
    "plt.rcParams[\"figure.figsize\"] = (10,7)\n",
    "x=['CNN','Polynomial Regression']\n",
    "\n",
    "\n",
    "ax=sns.barplot(x,ac[:2])\n",
    "ax.set_title('Accuracy comparison')\n",
    "ax.set_ylabel('Accuracy')\n",
    "\n",
    "low = min(ac)\n",
    "high = max(ac)\n",
    "ax.set_ylim(80,100)\n",
    "import pandas as pd\n",
    "data={'Agorithms':x,\n",
    "     \"accuracy\":ac[:2]}\n",
    "df=pd.DataFrame(data)\n",
    "df.head()"
   ]
  },
  {
   "cell_type": "code",
   "execution_count": 40,
   "id": "af74e2c0",
   "metadata": {},
   "outputs": [],
   "source": [
    "f=open('model.pkl','rb')\n",
    "import pickle\n",
    "model=pickle.load(f)\n",
    "y_pred=model.predict(X_test)"
   ]
  },
  {
   "cell_type": "code",
   "execution_count": 41,
   "id": "e1f669dd",
   "metadata": {},
   "outputs": [
    {
     "name": "stdout",
     "output_type": "stream",
     "text": [
      "Poor\n",
      "Hazardous\n",
      "Hazardous\n",
      "Good\n",
      "Good\n",
      "Good\n",
      "Poor\n",
      "Poor\n",
      "Good\n",
      "Good\n",
      "Good\n",
      "Hazardous\n",
      "Poor\n",
      "Hazardous\n",
      "Good\n",
      "Good\n",
      "Good\n",
      "Hazardous\n",
      "Good\n"
     ]
    }
   ],
   "source": [
    "for i in range(1,20):\n",
    "    if(y_pred[i]==1):\n",
    "        print(\"Good\")\n",
    "    elif(y_pred[i]==2):\n",
    "        print(\"Poor\")\n",
    "    elif(y_pred[i]==3):\n",
    "        print(\"Poor\")\n",
    "    else:\n",
    "        print(\"Hazardous\")"
   ]
  },
  {
   "cell_type": "code",
   "execution_count": 42,
   "id": "a2853406",
   "metadata": {},
   "outputs": [
    {
     "name": "stdout",
     "output_type": "stream",
     "text": [
      "[1]\n"
     ]
    }
   ],
   "source": [
    "print(str(model.predict([[2.7,45,35.16,23]])))"
   ]
  },
  {
   "cell_type": "code",
   "execution_count": null,
   "id": "f7da4c40",
   "metadata": {},
   "outputs": [],
   "source": []
  }
 ],
 "metadata": {
  "kernelspec": {
   "display_name": "Python 3 (ipykernel)",
   "language": "python",
   "name": "python3"
  },
  "language_info": {
   "codemirror_mode": {
    "name": "ipython",
    "version": 3
   },
   "file_extension": ".py",
   "mimetype": "text/x-python",
   "name": "python",
   "nbconvert_exporter": "python",
   "pygments_lexer": "ipython3",
   "version": "3.9.12"
  },
  "papermill": {
   "default_parameters": {},
   "duration": 254.938724,
   "end_time": "2022-03-31T11:23:17.730970",
   "environment_variables": {},
   "exception": null,
   "input_path": "__notebook__.ipynb",
   "output_path": "__notebook__.ipynb",
   "parameters": {},
   "start_time": "2022-03-31T11:19:02.792246",
   "version": "2.3.3"
  }
 },
 "nbformat": 4,
 "nbformat_minor": 5
}
